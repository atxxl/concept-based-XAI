{
 "cells": [
  {
   "cell_type": "code",
   "execution_count": 1,
   "metadata": {},
   "outputs": [],
   "source": [
    "import os\n",
    "import sys\n",
    "import math\n",
    "import rich\n",
    "import torch\n",
    "import random\n",
    "import numpy  as np\n",
    "import pandas as pd\n",
    "import seaborn  as sns\n",
    "import torch.nn as nn\n",
    "import torch.autograd as autograd\n",
    "import matplotlib.pyplot as plt\n",
    "import torch.nn.functional as F\n",
    "\n",
    "from tqdm import tqdm \n",
    "from dotenv   import load_dotenv\n",
    "from datasets import load_dataset\n",
    "from transformers import BertTokenizer, BertModel\n",
    "from torch.utils.data import DataLoader, Dataset\n",
    "from torch.nn.parameter import Parameter\n",
    "from sklearn.metrics import f1_score\n",
    "from sklearn.metrics import confusion_matrix, ConfusionMatrixDisplay"
   ]
  },
  {
   "cell_type": "code",
   "execution_count": 2,
   "metadata": {},
   "outputs": [],
   "source": [
    "# Load DATA_PATH from .env file\n",
    "load_dotenv()\n",
    "data_path  = os.getenv(\"DATA_PATH\")\n",
    "model_path = os.getenv(\"MODEL_PATH\")\n",
    "cebab_path = os.getenv(\"CEBAB_PATH\")"
   ]
  },
  {
   "cell_type": "code",
   "execution_count": 4,
   "metadata": {},
   "outputs": [],
   "source": [
    "if cebab_path not in sys.path:\n",
    "    sys.path.append(cebab_path)\n",
    "\n",
    "from sparse_model import SubnetLinear_Mask, insert_sparse_mask, set_sparse_index, setup_seed"
   ]
  },
  {
   "cell_type": "code",
   "execution_count": 5,
   "metadata": {},
   "outputs": [],
   "source": [
    "# Load the model and tokenizer\n",
    "model_path = model_path+'/distilbert-base-uncased_0.7_joint.pth'\n",
    "model = torch.load(model_path, map_location=torch.device('cpu'))\n",
    "tokenizer = BertTokenizer.from_pretrained('bert-base-uncased')\n",
    "\n",
    "# Ensure to set the model in evaluation mode\n",
    "model.eval()\n",
    "seed = 42\n",
    "max_len = 512\n",
    "batch_size = 8\n",
    "lambda_XtoC = 5.\n",
    "is_aux_logits = False\n",
    "num_labels = 5  #label的个数\n",
    "num_each_concept_classes = 3  #每个concept有几个类\n",
    "num_concept_labels = 4\n",
    "train_split = \"train_exclusive\"\n",
    "test_split = \"test\"\n",
    "val_split  = \"validation\"\n",
    "CEBaB = load_dataset(\"CEBaB/CEBaB\")"
   ]
  },
  {
   "cell_type": "code",
   "execution_count": 6,
   "metadata": {},
   "outputs": [
    {
     "data": {
      "text/plain": [
       "DistilBertModel(\n",
       "  (embeddings): Embeddings(\n",
       "    (word_embeddings): Embedding(30522, 768, padding_idx=0)\n",
       "    (position_embeddings): Embedding(512, 768)\n",
       "    (LayerNorm): LayerNorm((768,), eps=1e-12, elementwise_affine=True)\n",
       "    (dropout): Dropout(p=0.1, inplace=False)\n",
       "  )\n",
       "  (transformer): Transformer(\n",
       "    (layer): ModuleList(\n",
       "      (0-5): 6 x TransformerBlock(\n",
       "        (attention): MultiHeadSelfAttention(\n",
       "          (dropout): Dropout(p=0.1, inplace=False)\n",
       "          (q_lin): SubnetLinear_Mask(\n",
       "            (fc): Linear(in_features=768, out_features=768, bias=True)\n",
       "            (mask_list): ParameterList(\n",
       "                (0): Parameter containing: [torch.float32 of size 768x768]\n",
       "                (1): Parameter containing: [torch.float32 of size 768x768]\n",
       "                (2): Parameter containing: [torch.float32 of size 768x768]\n",
       "                (3): Parameter containing: [torch.float32 of size 768x768]\n",
       "            )\n",
       "          )\n",
       "          (k_lin): SubnetLinear_Mask(\n",
       "            (fc): Linear(in_features=768, out_features=768, bias=True)\n",
       "            (mask_list): ParameterList(\n",
       "                (0): Parameter containing: [torch.float32 of size 768x768]\n",
       "                (1): Parameter containing: [torch.float32 of size 768x768]\n",
       "                (2): Parameter containing: [torch.float32 of size 768x768]\n",
       "                (3): Parameter containing: [torch.float32 of size 768x768]\n",
       "            )\n",
       "          )\n",
       "          (v_lin): SubnetLinear_Mask(\n",
       "            (fc): Linear(in_features=768, out_features=768, bias=True)\n",
       "            (mask_list): ParameterList(\n",
       "                (0): Parameter containing: [torch.float32 of size 768x768]\n",
       "                (1): Parameter containing: [torch.float32 of size 768x768]\n",
       "                (2): Parameter containing: [torch.float32 of size 768x768]\n",
       "                (3): Parameter containing: [torch.float32 of size 768x768]\n",
       "            )\n",
       "          )\n",
       "          (out_lin): SubnetLinear_Mask(\n",
       "            (fc): Linear(in_features=768, out_features=768, bias=True)\n",
       "            (mask_list): ParameterList(\n",
       "                (0): Parameter containing: [torch.float32 of size 768x768]\n",
       "                (1): Parameter containing: [torch.float32 of size 768x768]\n",
       "                (2): Parameter containing: [torch.float32 of size 768x768]\n",
       "                (3): Parameter containing: [torch.float32 of size 768x768]\n",
       "            )\n",
       "          )\n",
       "        )\n",
       "        (sa_layer_norm): LayerNorm((768,), eps=1e-12, elementwise_affine=True)\n",
       "        (ffn): FFN(\n",
       "          (dropout): Dropout(p=0.1, inplace=False)\n",
       "          (lin1): SubnetLinear_Mask(\n",
       "            (fc): Linear(in_features=768, out_features=3072, bias=True)\n",
       "            (mask_list): ParameterList(\n",
       "                (0): Parameter containing: [torch.float32 of size 3072x768]\n",
       "                (1): Parameter containing: [torch.float32 of size 3072x768]\n",
       "                (2): Parameter containing: [torch.float32 of size 3072x768]\n",
       "                (3): Parameter containing: [torch.float32 of size 3072x768]\n",
       "            )\n",
       "          )\n",
       "          (lin2): SubnetLinear_Mask(\n",
       "            (fc): Linear(in_features=3072, out_features=768, bias=True)\n",
       "            (mask_list): ParameterList(\n",
       "                (0): Parameter containing: [torch.float32 of size 768x3072]\n",
       "                (1): Parameter containing: [torch.float32 of size 768x3072]\n",
       "                (2): Parameter containing: [torch.float32 of size 768x3072]\n",
       "                (3): Parameter containing: [torch.float32 of size 768x3072]\n",
       "            )\n",
       "          )\n",
       "          (activation): GELUActivation()\n",
       "        )\n",
       "        (output_layer_norm): LayerNorm((768,), eps=1e-12, elementwise_affine=True)\n",
       "      )\n",
       "    )\n",
       "  )\n",
       ")"
      ]
     },
     "execution_count": 6,
     "metadata": {},
     "output_type": "execute_result"
    }
   ],
   "source": [
    "class MyDataset(Dataset):\n",
    "    # Split = train/dev/test\n",
    "    def __init__(self, split, skip_class = \"no majority\"):\n",
    "        self.data = CEBaB[split]\n",
    "        self.labels = self.data[\"review_majority\"]\n",
    "        self.text = self.data[\"description\"]\n",
    "        \n",
    "        self.food_aspect = self.data[\"food_aspect_majority\"]\n",
    "        self.ambiance_aspect = self.data[\"ambiance_aspect_majority\"]\n",
    "        self.service_aspect = self.data[\"service_aspect_majority\"]\n",
    "        self.noise_aspect =self.data[\"noise_aspect_majority\"]\n",
    "        \n",
    "        self.map_dict = {\"Negative\":0, \"Positive\":1, \"unknown\":2, \"\":2,\"no majority\":2}\n",
    "\n",
    "        self.skip_class = skip_class\n",
    "        if skip_class is not None:\n",
    "            self.indices = [i for i, label in enumerate(self.labels) if label != skip_class]\n",
    "        else:\n",
    "            self.indices = range(len(self.labels))\n",
    "\n",
    "    def __len__(self):\n",
    "        return len(self.indices)\n",
    "\n",
    "    def __getitem__(self, index):\n",
    "        text = self.text[self.indices[index]]\n",
    "        label = int(self.labels[self.indices[index]]) - 1\n",
    "\n",
    "        # gold labels\n",
    "        food_concept = self.map_dict[self.food_aspect[self.indices[index]]]\n",
    "        ambiance_concept = self.map_dict[self.ambiance_aspect[self.indices[index]]]\n",
    "        service_concept = self.map_dict[self.service_aspect[self.indices[index]]]\n",
    "        noise_concept = self.map_dict[self.noise_aspect[self.indices[index]]]\n",
    "        \n",
    "        concept_labels = [food_concept,ambiance_concept,service_concept,noise_concept]\n",
    "\n",
    "        encoding = tokenizer.encode_plus(\n",
    "            text,\n",
    "            add_special_tokens=True,\n",
    "            max_length=max_len,\n",
    "            truncation=True,\n",
    "            padding=\"max_length\",\n",
    "            return_attention_mask=True,\n",
    "            return_tensors=\"pt\"\n",
    "        )\n",
    "\n",
    "        return {\n",
    "            \"input_ids\": encoding[\"input_ids\"].flatten(),\n",
    "            \"attention_mask\": encoding[\"attention_mask\"].flatten(),\n",
    "            \"label\": torch.tensor(label, dtype=torch.long),\n",
    "            \"food_concept\": torch.tensor(food_concept, dtype=torch.long),\n",
    "            \"ambiance_concept\": torch.tensor(ambiance_concept, dtype=torch.long),\n",
    "            \"service_concept\": torch.tensor(service_concept, dtype=torch.long),\n",
    "            \"noise_concept\": torch.tensor(noise_concept, dtype=torch.long),\n",
    "            \"concept_labels\": torch.tensor(concept_labels, dtype=torch.long)\n",
    "        }\n",
    "\n",
    "test_dataset = MyDataset(test_split)\n",
    "test_loader = DataLoader(test_dataset, batch_size=batch_size)\n",
    "\n",
    "# Device configuration\n",
    "device = torch.device(\"cuda\" if torch.cuda.is_available() else \"cpu\")\n",
    "model.to(device)"
   ]
  },
  {
   "cell_type": "code",
   "execution_count": 8,
   "metadata": {},
   "outputs": [],
   "source": [
    "ModelXtoCtoY_layer = torch.load(model_path+\"/distilbert-base-uncased_0.7_ModelXtoCtoY_layer_joint.pth\",\n",
    "                                map_location=torch.device('cpu')) "
   ]
  },
  {
   "cell_type": "code",
   "execution_count": 9,
   "metadata": {},
   "outputs": [
    {
     "name": "stdout",
     "output_type": "stream",
     "text": [
      "Test!\n"
     ]
    }
   ],
   "source": [
    "num_epochs = 1\n",
    "print(\"Test!\")\n",
    "device = torch.device(\"cuda\" if torch.cuda.is_available() else \"cpu\")"
   ]
  },
  {
   "cell_type": "code",
   "execution_count": 14,
   "metadata": {},
   "outputs": [
    {
     "name": "stderr",
     "output_type": "stream",
     "text": [
      "Evaluating:   0%|          | 1/212 [00:09<34:45,  9.88s/it]"
     ]
    },
    {
     "name": "stdout",
     "output_type": "stream",
     "text": [
      "Text: limoncello has excellent italian food. so good, that it tastes homemade. the only drawback is that it is so loud in the restaurant.\n",
      "True Label: 3 Predicted Label: 3\n",
      "True Concepts: [1 1 1 0] Predicted Concepts: [1 1 1 0]\n",
      "\n",
      "Text: limoncello has excellent italian food. so good, that it tastes homemade. it wasn't too loud in the restaurant either and was very calming.\n",
      "True Label: 4 Predicted Label: 3\n",
      "True Concepts: [1 1 1 2] Predicted Concepts: [1 1 2 0]\n",
      "\n",
      "Text: limoncello has excellent italian food. so good, that it tastes homemade. service was responsive and fast! the only drawback is that it is so loud in the restaurant.\n",
      "True Label: 3 Predicted Label: 3\n",
      "True Concepts: [2 2 2 2] Predicted Concepts: [2 2 2 2]\n",
      "\n",
      "Text: limoncello has terrible italian food. so bad, that it tastes jarred. the other drawback is that it is so loud in the restaurant.\n",
      "True Label: 0 Predicted Label: 1\n",
      "True Concepts: [2 2 2 2] Predicted Concepts: [2 2 2 2]\n",
      "\n",
      "Text: limoncello has excellent italian food. so good, that it tastes homemade.\n",
      "True Label: 4 Predicted Label: 4\n",
      "True Concepts: [2 2 1 2] Predicted Concepts: [2 2 1 2]\n",
      "\n",
      "Text: limoncello has excellent italian food. so good, that it tastes homemade. the only drawback is that the service sucks in the restaurant.\n",
      "True Label: 3 Predicted Label: 3\n",
      "True Concepts: [2 0 2 2] Predicted Concepts: [2 0 2 2]\n",
      "\n",
      "Text: so good. the only drawback is that it is so loud in the restaurant.\n",
      "True Label: 3 Predicted Label: 3\n",
      "True Concepts: [0 1 0 0] Predicted Concepts: [0 0 0 0]\n",
      "\n",
      "Text: pretty pricey - even for an expense account.\n",
      "True Label: 1 Predicted Label: 1\n",
      "True Concepts: [2 0 0 2] Predicted Concepts: [2 2 0 2]\n",
      "\n"
     ]
    },
    {
     "name": "stderr",
     "output_type": "stream",
     "text": [
      "Evaluating:   1%|          | 2/212 [00:19<34:25,  9.83s/it]"
     ]
    },
    {
     "name": "stdout",
     "output_type": "stream",
     "text": [
      "Text: pretty pricey - even for an expense account and the mood in the air was slightly disconcerting.\n",
      "True Label: 1 Predicted Label: 1\n",
      "True Concepts: [2 2 2 2] Predicted Concepts: [2 2 0 2]\n",
      "\n",
      "Text: pretty pricey - even for an expense account. i was glad it wasn't one of those places where you had to yell to be heard though.\n",
      "True Label: 2 Predicted Label: 1\n",
      "True Concepts: [1 0 1 1] Predicted Concepts: [1 0 1 1]\n",
      "\n",
      "Text: pretty pricey - even for an expense account. beautiful dining room.\n",
      "True Label: 3 Predicted Label: 2\n",
      "True Concepts: [0 2 1 2] Predicted Concepts: [0 2 1 2]\n",
      "\n",
      "Text: pretty pricey - even for an expense account. too loud and noisy for a business meeting.\n",
      "True Label: 1 Predicted Label: 1\n",
      "True Concepts: [1 1 1 1] Predicted Concepts: [1 1 1 1]\n",
      "\n",
      "Text: i went here for 2010 restaurant week and it was fabulous! the mussel appetizer was amazing! nice, romantic atmosphere. i will definitely be eating here again.\n",
      "True Label: 4 Predicted Label: 4\n",
      "True Concepts: [2 2 2 2] Predicted Concepts: [2 2 2 2]\n",
      "\n",
      "Text: i went here for 2010 restaurant week and it was awful! the mussel appetizer was vomit inducing! it does have a nice, romantic atmosphere however. i will not be eating here again.\n",
      "True Label: 0 Predicted Label: 4\n",
      "True Concepts: [2 2 2 2] Predicted Concepts: [2 2 2 2]\n",
      "\n",
      "Text: i went here for 2010 restaurant week and it was fabulous! the mussel appetizer was amazing! nice, romantic and relaxing atmosphere. i will definitely be eating here again.\n",
      "True Label: 4 Predicted Label: 4\n",
      "True Concepts: [2 1 2 0] Predicted Concepts: [2 0 2 0]\n",
      "\n",
      "Text: i went here for 2010 restaurant week and it was fabulous! the mussel appetizer was amazing! nice, romantic atmosphere, but too noisy. i will definitely be eating here again.\n",
      "True Label: 3 Predicted Label: 4\n",
      "True Concepts: [2 2 1 0] Predicted Concepts: [2 2 2 0]\n",
      "\n"
     ]
    },
    {
     "name": "stderr",
     "output_type": "stream",
     "text": [
      "Evaluating:   1%|▏         | 3/212 [00:29<34:39,  9.95s/it]"
     ]
    },
    {
     "name": "stdout",
     "output_type": "stream",
     "text": [
      "Text: i went here for 2010 restaurant week and it was terrible! the mussel appetizer was unappetizing! not nice, unromantic atmosphere. i will definitely not be eating here again.\n",
      "True Label: 0 Predicted Label: 0\n",
      "True Concepts: [1 2 1 1] Predicted Concepts: [0 1 1 1]\n",
      "\n",
      "Text: i went here for 2010 restaurant week and it was fabulous! nice, romantic atmosphere. i will definitely be eating here again.\n",
      "True Label: 4 Predicted Label: 4\n",
      "True Concepts: [0 1 1 1] Predicted Concepts: [0 1 1 1]\n",
      "\n",
      "Text: i went here for 2010 restaurant week and it was fabulous! the mussel appetizer was amazing! i will definitely be eating here again.\n",
      "True Label: 4 Predicted Label: 4\n",
      "True Concepts: [0 1 2 2] Predicted Concepts: [0 1 2 2]\n",
      "\n",
      "Text: we had a great time, good food and great service. the restaurant is one of our favorites in the sacramento area.\n",
      "True Label: 4 Predicted Label: 4\n",
      "True Concepts: [2 2 2 2] Predicted Concepts: [2 2 2 2]\n",
      "\n",
      "Text: we had a great time, bad food but great service. the restaurant is one of our favorites in the sacramento area.\n",
      "True Label: 2 Predicted Label: 2\n",
      "True Concepts: [2 2 2 1] Predicted Concepts: [2 2 2 1]\n",
      "\n",
      "Text: we had a great time, good food and great service, but had a hard time hearing each other. the restaurant is one of our favorites in the sacramento area.\n",
      "True Label: 3 Predicted Label: 3\n",
      "True Concepts: [1 1 0 1] Predicted Concepts: [1 1 0 1]\n",
      "\n",
      "Text: we had a great time, good food but bad service. the restaurant is one of our favorites in the sacramento area.\n",
      "True Label: 3 Predicted Label: 3\n",
      "True Concepts: [2 2 2 2] Predicted Concepts: [2 2 2 2]\n",
      "\n",
      "Text: we had a great time, good food, service and a quiet atmosphere. the restaurant is one of our favorites in the sacramento area.\n",
      "True Label: 4 Predicted Label: 4\n",
      "True Concepts: [2 0 2 1] Predicted Concepts: [2 0 2 2]\n",
      "\n"
     ]
    },
    {
     "name": "stderr",
     "output_type": "stream",
     "text": [
      "Evaluating:   2%|▏         | 4/212 [00:40<34:58, 10.09s/it]"
     ]
    },
    {
     "name": "stdout",
     "output_type": "stream",
     "text": [
      "Text: we had a great time, good food. the restaurant is one of our favorites in the sacramento area.\n",
      "True Label: 4 Predicted Label: 4\n",
      "True Concepts: [1 2 1 1] Predicted Concepts: [1 2 1 1]\n",
      "\n",
      "Text: we had a great time, great service. the restaurant is one of our favorites in the sacramento area.\n",
      "True Label: 4 Predicted Label: 4\n",
      "True Concepts: [0 1 2 0] Predicted Concepts: [0 1 0 0]\n",
      "\n",
      "Text: the food was very good and the service was exceptional, but it seemed a bit overpriced to me compared to some of the other upscale pizza places.\n",
      "True Label: 3 Predicted Label: 3\n",
      "True Concepts: [2 2 2 2] Predicted Concepts: [2 2 2 2]\n",
      "\n",
      "Text: the food was very good but the service was not too great to be honest. it seemed a bit overpriced to me compared to some of the other upscale pizza places.\n",
      "True Label: 2 Predicted Label: 2\n",
      "True Concepts: [2 2 2 2] Predicted Concepts: [2 2 2 2]\n",
      "\n",
      "Text: the food wasn't very good, but the service was exceptional. it seemed a bit overpriced to me compared to some of the other upscale pizza places.\n",
      "True Label: 2 Predicted Label: 2\n",
      "True Concepts: [2 1 1 0] Predicted Concepts: [2 1 1 0]\n",
      "\n",
      "Text: the food was very good, but it seemed a bit overpriced to me compared to some of the other upscale pizza places.\n",
      "True Label: 2 Predicted Label: 2\n",
      "True Concepts: [1 2 1 2] Predicted Concepts: [1 2 0 2]\n",
      "\n",
      "Text: the service was exceptional, but it seemed a bit overpriced to me compared to some of the other upscale pizza places.\n",
      "True Label: 2 Predicted Label: 2\n",
      "True Concepts: [2 2 2 2] Predicted Concepts: [2 2 2 2]\n",
      "\n",
      "Text: too expensive for the small portions!\n",
      "True Label: 1 Predicted Label: 0\n",
      "True Concepts: [2 2 2 2] Predicted Concepts: [2 2 2 2]\n",
      "\n"
     ]
    },
    {
     "name": "stderr",
     "output_type": "stream",
     "text": [
      "Evaluating:   2%|▏         | 5/212 [00:50<34:55, 10.12s/it]"
     ]
    },
    {
     "name": "stdout",
     "output_type": "stream",
     "text": [
      "Text: good ambiance but too expensive for the small portions!\n",
      "True Label: 1 Predicted Label: 2\n",
      "True Concepts: [0 0 0 0] Predicted Concepts: [0 0 0 2]\n",
      "\n",
      "Text: too expensive and bland for the small portions!\n",
      "True Label: 1 Predicted Label: 0\n",
      "True Concepts: [0 2 1 1] Predicted Concepts: [2 0 1 1]\n",
      "\n",
      "Text: too expensive for the small portions but the noise level as great.\n",
      "True Label: 2 Predicted Label: 2\n",
      "True Concepts: [1 2 2 0] Predicted Concepts: [1 2 2 2]\n",
      "\n",
      "Text: too expensive for the small portions and it looked like it had not been cleaned in months\n",
      "True Label: 1 Predicted Label: 1\n",
      "True Concepts: [2 2 2 2] Predicted Concepts: [2 2 2 2]\n",
      "\n",
      "Text: too expensive for the small portions and so noisy we couldn't hear each other at all!\n",
      "True Label: 1 Predicted Label: 1\n",
      "True Concepts: [2 2 2 2] Predicted Concepts: [2 2 2 2]\n",
      "\n",
      "Text: too expensive!\n",
      "True Label: 0 Predicted Label: 0\n",
      "True Concepts: [2 2 0 0] Predicted Concepts: [2 2 0 0]\n",
      "\n",
      "Text: the food was excellent but the waiters were not very friendly.\n",
      "True Label: 3 Predicted Label: 2\n",
      "True Concepts: [2 2 1 2] Predicted Concepts: [2 2 0 2]\n",
      "\n",
      "Text: the food was excellent and the place was so loud but the waiters were not very friendly.\n",
      "True Label: 2 Predicted Label: 2\n",
      "True Concepts: [0 2 2 0] Predicted Concepts: [0 2 2 0]\n",
      "\n"
     ]
    },
    {
     "name": "stderr",
     "output_type": "stream",
     "text": [
      "Evaluating: 100%|██████████| 212/212 [1:12:44<00:00, 20.59s/it]"
     ]
    },
    {
     "name": "stdout",
     "output_type": "stream",
     "text": [
      "Epoch 1: Test concept Acc = 84.82830076968621 Test concept Macro F1 = 86.559210617642\n",
      "Epoch 1: Test Acc = 63.5287152161042 Test Macro F1 = 76.62706213387115\n"
     ]
    },
    {
     "name": "stderr",
     "output_type": "stream",
     "text": [
      "\n"
     ]
    }
   ],
   "source": [
    "# Initialize accumulators\n",
    "test_accuracy = 0.\n",
    "concept_test_accuracy = 0.\n",
    "predicted_labels = np.array([])\n",
    "true_labels = np.array([])\n",
    "concept_predicted_labels = np.array([])\n",
    "concept_true_labels = np.array([])\n",
    "\n",
    "# Evaluate the model\n",
    "for epoch in range(num_epochs):  # Added epoch loop\n",
    "    with torch.no_grad():\n",
    "        for batch_idx, batch in enumerate(tqdm(test_loader, desc=\"Evaluating\")):\n",
    "            input_ids = batch[\"input_ids\"].to(device)\n",
    "            attention_mask = batch[\"attention_mask\"].to(device)\n",
    "            label = batch[\"label\"].to(device)\n",
    "            \n",
    "            food_concept = batch[\"food_concept\"].to(device)\n",
    "            ambiance_concept = batch[\"ambiance_concept\"].to(device)\n",
    "            service_concept = batch[\"service_concept\"].to(device)\n",
    "            noise_concept = batch[\"noise_concept\"].to(device)\n",
    "\n",
    "            concept_labels = batch[\"concept_labels\"].to(device)\n",
    "            concept_labels = torch.t(concept_labels)\n",
    "            concept_labels = concept_labels.contiguous().view(-1)\n",
    "\n",
    "            XtoC_outputs = []\n",
    "            XtoY_outputs = []\n",
    "            for concept_idx in range(num_concept_labels):\n",
    "                set_sparse_index(model, concept_idx)\n",
    "                outputs = model(input_ids=input_ids, attention_mask=attention_mask)\n",
    "                pooled_output = outputs.last_hidden_state.mean(1)\n",
    "\n",
    "                outputs = ModelXtoCtoY_layer(pooled_output)\n",
    "                XtoC_outputs.append(outputs[concept_idx + 1])\n",
    "                XtoY_outputs.extend(outputs[0:1])\n",
    "\n",
    "            # Predict labels\n",
    "            predictions = torch.argmax(XtoY_outputs[0], axis=1)\n",
    "            test_accuracy += torch.sum(predictions == label).item()\n",
    "            predicted_labels = np.append(predicted_labels, predictions.cpu().numpy())\n",
    "            true_labels = np.append(true_labels, label.cpu().numpy())\n",
    "\n",
    "            # Predict concepts\n",
    "            XtoC_logits = torch.cat(XtoC_outputs, dim=0)\n",
    "            concept_predictions = torch.argmax(XtoC_logits, axis=1)\n",
    "            \n",
    "            # Reshape concept_predictions as in Code Piece 3\n",
    "            concept_predictions = concept_predictions.view(-1, num_concept_labels)\n",
    "\n",
    "            # Ensure concept_labels are in the correct shape\n",
    "            concept_labels = concept_labels.view(-1, num_concept_labels)\n",
    "\n",
    "            # Compute concept accuracy\n",
    "            concept_test_accuracy += torch.sum(concept_predictions == concept_labels).item()\n",
    "            concept_predicted_labels = np.append(concept_predicted_labels, concept_predictions.cpu().numpy().flatten())\n",
    "            concept_true_labels = np.append(concept_true_labels, concept_labels.cpu().numpy().flatten())\n",
    "            \n",
    "            # Print some example texts with their labels and concepts\n",
    "            if batch_idx < 5:  # Print first 5 batches as examples\n",
    "                for i in range(len(label)):\n",
    "                    print(\"Text:\", tokenizer.decode(input_ids[i], skip_special_tokens=True))\n",
    "                    print(\"True Label:\", label[i].item(), \"Predicted Label:\", predictions[i].item())\n",
    "                    print(\"True Concepts:\", concept_labels[i].cpu().numpy(), \"Predicted Concepts:\", concept_predictions[i].cpu().numpy())\n",
    "                    print()\n",
    "            \n",
    "        test_accuracy /= len(test_dataset)\n",
    "        num_labels = len(np.unique(true_labels))\n",
    "\n",
    "        concept_test_accuracy /= len(test_dataset)\n",
    "        concept_num_true_labels = len(np.unique(concept_true_labels))\n",
    "        \n",
    "        macro_f1_scores = []\n",
    "        for label in range(num_labels):\n",
    "            label_pred = np.array(predicted_labels) == label\n",
    "            label_true = np.array(true_labels) == label\n",
    "            macro_f1_scores.append(f1_score(label_true, label_pred, average='macro'))\n",
    "            mean_macro_f1_score = np.mean(macro_f1_scores)\n",
    "\n",
    "        concept_macro_f1_scores = []\n",
    "        for concept_label in range(concept_num_true_labels):\n",
    "            concept_label_pred = np.array(concept_predicted_labels) == concept_label\n",
    "            concept_label_true = np.array(concept_true_labels) == concept_label\n",
    "            concept_macro_f1_scores.append(f1_score(concept_label_true, concept_label_pred, average='macro'))\n",
    "            concept_mean_macro_f1_score = np.mean(concept_macro_f1_scores)\n",
    "\n",
    "    print(f\"Epoch {epoch + 1}: Test concept Acc = {concept_test_accuracy*100/num_concept_labels} Test concept Macro F1 = {concept_mean_macro_f1_score*100}\")\n",
    "    print(f\"Epoch {epoch + 1}: Test Acc = {test_accuracy*100} Test Macro F1 = {mean_macro_f1_score*100}\")"
   ]
  },
  {
   "cell_type": "code",
   "execution_count": 22,
   "metadata": {},
   "outputs": [
    {
     "data": {
      "text/plain": [
       "<Figure size 1200x1200 with 0 Axes>"
      ]
     },
     "metadata": {},
     "output_type": "display_data"
    },
    {
     "data": {
      "image/png": "[encoded data removed]",
      "text/plain": [
       "<Figure size 640x480 with 2 Axes>"
      ]
     },
     "metadata": {},
     "output_type": "display_data"
    }
   ],
   "source": [
    "plt.figure(figsize=(6, 6),dpi=200)\n",
    "cm_labels = confusion_matrix(true_labels, predicted_labels)\n",
    "disp_labels = ConfusionMatrixDisplay(confusion_matrix=cm_labels, display_labels=[1, 2, 3, 4, 5])\n",
    "disp_labels.plot(cmap=plt.cm.Blues)\n",
    "plt.title(\"Confusion Matrix - Labels\")\n",
    "plt.show()"
   ]
  },
  {
   "cell_type": "code",
   "execution_count": 24,
   "metadata": {},
   "outputs": [
    {
     "data": {
      "text/plain": [
       "<Figure size 1200x1200 with 0 Axes>"
      ]
     },
     "metadata": {},
     "output_type": "display_data"
    },
    {
     "data": {
      "image/png": "[encoded data removed]",
      "text/plain": [
       "<Figure size 640x480 with 2 Axes>"
      ]
     },
     "metadata": {},
     "output_type": "display_data"
    }
   ],
   "source": [
    "plt.figure(figsize=(6, 6),dpi=200)\n",
    "cm_concepts = confusion_matrix(concept_true_labels, concept_predicted_labels)\n",
    "disp_concepts = ConfusionMatrixDisplay(confusion_matrix=cm_concepts)\n",
    "disp_concepts.plot(cmap=plt.cm.Blues)\n",
    "plt.title(\"Confusion Matrix - Concepts\")\n",
    "plt.show()"
   ]
  },
  {
   "cell_type": "code",
   "execution_count": null,
   "metadata": {},
   "outputs": [],
   "source": []
  }
 ],
 "metadata": {
  "kernelspec": {
   "display_name": "xai",
   "language": "python",
   "name": "python3"
  },
  "language_info": {
   "codemirror_mode": {
    "name": "ipython",
    "version": 3
   },
   "file_extension": ".py",
   "mimetype": "text/x-python",
   "name": "python",
   "nbconvert_exporter": "python",
   "pygments_lexer": "ipython3",
   "version": "3.11.7"
  }
 },
 "nbformat": 4,
 "nbformat_minor": 2
}
